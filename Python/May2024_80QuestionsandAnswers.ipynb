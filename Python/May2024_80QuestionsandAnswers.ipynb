{
 "cells": [
  {
   "cell_type": "code",
   "execution_count": null,
   "id": "877bd613-8a08-4e09-abe8-03c7d7b61278",
   "metadata": {},
   "outputs": [],
   "source": [
    "# import required libraries\n",
    "import pandas as pd\n",
    "import numpy as np\n",
    "import matplotlib.pyplot as plt\n",
    "import pyodbc as odbc\n",
    "import re\n",
    "import random\n",
    "import seaborn as sns\n",
    "from dateutil.relativedelta import relativedelta"
   ]
  },
  {
   "cell_type": "code",
   "execution_count": null,
   "id": "747c6a08-165e-46f8-a54e-d4625cd657ef",
   "metadata": {},
   "outputs": [],
   "source": [
    "# read excel into dataframe\n",
    "df_Cardiac_Outcomes = pd.read_excel(\"Cardiac_Outcomes.xlsx\",sheet_name=None)\n",
    "# read each sheet and store it in a dataframe\n",
    "df_Hospitalization_Discharge = df_Cardiac_Outcomes[\"Hospitalization_Discharge\"]\n",
    "df_CardiacComplications = df_Cardiac_Outcomes[\"CardiacComplications\"]\n",
    "df_Responsiveness = df_Cardiac_Outcomes[\"Responsivenes\"]\n",
    "df_PatientHistory = df_Cardiac_Outcomes[\"PatientHistory\"]\n",
    "df_Labs = df_Cardiac_Outcomes[\"Labs\"]\n",
    "df_Demography = df_Cardiac_Outcomes[\"Demography\"]\n",
    "df_Patient_Precriptions = df_Cardiac_Outcomes[\"Patient_Precriptions\"]"
   ]
  },
  {
   "cell_type": "markdown",
   "id": "9f56b380-0d11-4113-8036-3cf119a549eb",
   "metadata": {},
   "source": [
    "### Q1. How many patients were registered in each unique occupation?"
   ]
  },
  {
   "cell_type": "code",
   "execution_count": null,
   "id": "d595b130-a45a-4b6c-98b9-f9bdab4795ca",
   "metadata": {},
   "outputs": [],
   "source": [
    "df_Demography[\"occupation\"].fillna(\"NA\", inplace=True)\n",
    "patients_occupation = df_Demography['occupation'].value_counts()\n",
    "patients_occupation"
   ]
  },
  {
   "cell_type": "markdown",
   "id": "6f0dcd8d-e1fb-4259-97a3-028645f7ef5d",
   "metadata": {},
   "source": [
    "### Q2. Divide GCS scores into slabs of 5 and count the number of patients under each band of score. Show this as any graph of your choice"
   ]
  },
  {
   "cell_type": "code",
   "execution_count": null,
   "id": "92cfbaa9-6869-4063-8ecd-347e18f8fd19",
   "metadata": {},
   "outputs": [],
   "source": [
    "#Method1\n",
    "df_Responsiveness[\"GCS_Group\"] = pd.cut(df_Responsiveness[\"GCS\"],bins=5,labels=False)\n",
    "df_GCSGroup_patients = df_Responsiveness.groupby(\"GCS_Group\")[\"inpatient_number\"].count()\n",
    "fig = plt.figure(figsize=(10,5))\n",
    "df_GCSGroup_patients.plot.pie(y=df_GCSGroup_patients.index)\n",
    "plt.show()"
   ]
  },
  {
   "cell_type": "code",
   "execution_count": null,
   "id": "cc0c7727",
   "metadata": {},
   "outputs": [],
   "source": [
    "# Method2\n",
    "df_Responsiveness[\"GCS_Group\"] = pd.cut(df_Responsiveness[\"GCS\"],bins=5,labels=False)\n",
    "df_GCSGroup_patients = df_Responsiveness.groupby(\"GCS_Group\")[\"inpatient_number\"].count()\n",
    "fig = plt.figure(figsize=(10,5))\n",
    "df_GCSGroup_patients.plot.line()  \n",
    "plt.show()"
   ]
  },
  {
   "cell_type": "markdown",
   "id": "b39a661c-226a-4caf-9924-9e6f6cc494d6",
   "metadata": {},
   "source": [
    "### Q3. Add a calculated column called Discharge date into the Hospitalization_Discharge using the information already available to you"
   ]
  },
  {
   "cell_type": "code",
   "execution_count": null,
   "id": "5c7bbb1c-5942-4e41-af75-0b0d0f4e6a4c",
   "metadata": {},
   "outputs": [],
   "source": [
    "df_Hospitalization_Discharge['Discharge_date'] = pd.to_datetime(df_Hospitalization_Discharge['Admission_date']) + pd.to_timedelta(df_Hospitalization_Discharge['dischargeDay'], unit='D')\n",
    "df_Hospitalization_Discharge[['Admission_date', 'dischargeDay','Discharge_date']]"
   ]
  },
  {
   "cell_type": "markdown",
   "id": "563d2aee-8ae9-42de-8f4c-daa9f6165937",
   "metadata": {},
   "source": [
    "### Q4. What percentage of patients had Biventricular heart failure?"
   ]
  },
  {
   "cell_type": "code",
   "execution_count": null,
   "id": "31e20954-321f-4bb3-9375-e16fc77898de",
   "metadata": {},
   "outputs": [],
   "source": [
    "total_patients = len(df_CardiacComplications)\n",
    "biventricular_patients = (df_CardiacComplications['type_of_heart_failure'] == 'Both').sum()\n",
    "biventricular_percentage = (biventricular_patients / total_patients) * 100\n",
    "print(\"Percentage of patients with Biventricular heart failure:\", round(biventricular_percentage,2),'%')"
   ]
  },
  {
   "cell_type": "markdown",
   "id": "fda4aba1-e8c6-474a-b46d-9f45f44769b9",
   "metadata": {},
   "source": [
    "### Q5. What is the ratio of patients who were responsive to pain vs responsive to sound?"
   ]
  },
  {
   "cell_type": "code",
   "execution_count": null,
   "id": "a0e5bbf9-f5d4-4e16-952e-144f503ef867",
   "metadata": {},
   "outputs": [],
   "source": [
    "#Method 1:\n",
    "print(round(len(df_Responsiveness.query(\"consciousness == 'ResponsiveToPain'\"))/len(df_Responsiveness.query(\"consciousness == 'ResponsiveToSound'\")),2))"
   ]
  },
  {
   "cell_type": "code",
   "execution_count": null,
   "id": "2591f09f",
   "metadata": {},
   "outputs": [],
   "source": [
    "#Method 2:\n",
    "Pivot_table = pd.pivot_table(df_Responsiveness, values='inpatient_number', columns=['consciousness'], aggfunc=\"count\")\n",
    "ratio=round(Pivot_table['ResponsiveToPain']/Pivot_table['ResponsiveToSound'],2)\n",
    "print(\"Ratio of responsive_to_pain vs responsive_to_sound of\",ratio)"
   ]
  },
  {
   "cell_type": "markdown",
   "id": "f71f68f9-c6e5-4daa-afc1-8cf7aad35670",
   "metadata": {},
   "source": [
    "### Q6.What was the average age group of the patients that had an outcome of 'Alive'?"
   ]
  },
  {
   "cell_type": "code",
   "execution_count": null,
   "id": "4b58d7f8-4ec7-40c8-8fa5-95d717e641ca",
   "metadata": {},
   "outputs": [],
   "source": [
    "import statistics\n",
    "df_patient_outcome_age = pd.merge(df_Hospitalization_Discharge[[\"inpatient_number\",\"outcome_during_hospitalization\"]], df_Demography[[\"inpatient_number\",\"ageCat\"]], on=\"inpatient_number\")\n",
    "df_patient_outcome_age = df_patient_outcome_age.query(\"outcome_during_hospitalization == 'Alive'\")\n",
    "alive_patients_age_group = df_patient_outcome_age['ageCat'].reset_index()\n",
    "li_median_age=[]\n",
    "dict_age = {}\n",
    "for index,row in alive_patients_age_group.iterrows():\n",
    "    li_age = (row[\"ageCat\"]).split('-')\n",
    "    median_age = (int(li_age[0])+int(li_age[1]))// 2\n",
    "    li_median_age.append(median_age)\n",
    "    if row[\"ageCat\"] not in dict_age:\n",
    "        dict_age[row[\"ageCat\"]] = median_age\n",
    "li_age_average = statistics.mean(li_median_age)\n",
    "age_group = [key for key, val in dict_age.items() if val == int(li_age_average)]\n",
    "print(\"The average age group of the patients that had an outcome of 'Alive':\",age_group[0])"
   ]
  },
  {
   "cell_type": "markdown",
   "id": "ebb43791-c88b-4575-95de-0c017cb9bef9",
   "metadata": {},
   "source": [
    "### Q7. Visualize missing data and missing patterns from Demography table using the \"MissingNo\" Library."
   ]
  },
  {
   "cell_type": "code",
   "execution_count": null,
   "id": "9bd33b73-7b5d-4375-9105-f96cd34352d0",
   "metadata": {},
   "outputs": [],
   "source": [
    "pip install missingno"
   ]
  },
  {
   "cell_type": "code",
   "execution_count": null,
   "id": "5f2dae2a-cc2b-412e-a11c-21a95de0d731",
   "metadata": {},
   "outputs": [],
   "source": [
    "#bar graph to show missing data\n",
    "import missingno as msno\n",
    "msno.bar(df_Demography,color=\"navy\")\n",
    "plt.show()"
   ]
  },
  {
   "cell_type": "code",
   "execution_count": null,
   "id": "5916207c",
   "metadata": {},
   "outputs": [],
   "source": [
    "# Matrix to show the missing patterns.\n",
    "msno.matrix(df_Demography)\n",
    "plt.show()"
   ]
  },
  {
   "cell_type": "markdown",
   "id": "355313ed-2e61-4f3c-80ff-ae21ed3b8355",
   "metadata": {},
   "source": [
    "### Q8. Create a Waffle chart to show what percentage of total deaths belong to each admission_ward?"
   ]
  },
  {
   "cell_type": "code",
   "execution_count": null,
   "id": "ab7e8e52-0f53-408a-bcc4-86ac95edc539",
   "metadata": {},
   "outputs": [],
   "source": [
    "pip install pywaffle"
   ]
  },
  {
   "cell_type": "code",
   "execution_count": null,
   "id": "84a63bb7-2270-4f1d-8bc4-bdcde23b1d5f",
   "metadata": {},
   "outputs": [],
   "source": [
    "from pywaffle import Waffle\n",
    "df_deaths = df_Hospitalization_Discharge[df_Hospitalization_Discharge[\"outcome_during_hospitalization\"] == \"Dead\"]\n",
    "totaldeaths = len(df_deaths)\n",
    "df_deaths = df_deaths.groupby(\"admission_ward\")[\"inpatient_number\"].count().reset_index()\n",
    "df_deaths.rename({'inpatient_number': 'DeathCount'}, axis=1, inplace=True)\n",
    "df_deaths[\"percentage_deaths\"] = (df_deaths[\"DeathCount\"]/df_deaths[\"DeathCount\"].sum()) * 100\n",
    "print(df_deaths)\n",
    "fig = plt.figure(FigureClass = Waffle, rows = 10,columns = 10, vertical = True, values = df_deaths.percentage_deaths, labels = list(df_deaths.admission_ward),legend = {'loc': 'upper left', 'bbox_to_anchor': (1, 1)})"
   ]
  },
  {
   "cell_type": "markdown",
   "id": "b0a289c1-3159-4df8-80e4-4d955beb8d5a",
   "metadata": {},
   "source": [
    "### Q9. Create any 2 2-D arrays and perform matrix multiplication. Display the resulting array."
   ]
  },
  {
   "cell_type": "code",
   "execution_count": null,
   "id": "39d53cd4-eb6d-4da0-b005-b4aa852bb21a",
   "metadata": {},
   "outputs": [],
   "source": [
    "array1 = np.array([[1, 1],[2, 2]])\n",
    "array2 = np.array([[3, 3],[4, 4]])\n",
    "result = np.dot(array1, array2);\n",
    "print(\"Result for matrix multiplication:\")\n",
    "print(result)"
   ]
  },
  {
   "cell_type": "markdown",
   "id": "bbea2e64-b5d0-4f61-b0bf-3f7f83cea4f3",
   "metadata": {},
   "source": [
    "### Q10. Display the percentage of missing values in each column in the table labs. Show the distribution as a bar graph"
   ]
  },
  {
   "cell_type": "code",
   "execution_count": null,
   "id": "ae69490a-3489-426a-a4fe-0b8978790f29",
   "metadata": {},
   "outputs": [],
   "source": [
    "# code to find percentage\n",
    "import matplotlib.pyplot as plt\n",
    "df_missingvalues = round(df_Labs.isnull().mean()*100,2)\n",
    "fig = plt.figure(figsize = (20, 5))\n",
    "plt.title('Percentage of Missing Values in Each Column (labs)')\n",
    "plt.xlabel('Columns')\n",
    "plt.ylabel('Percentage of Missing Values')\n",
    "df_missingvalues.plot.bar(color='skyblue')\n",
    "plt.show()"
   ]
  },
  {
   "cell_type": "markdown",
   "id": "1c51da40-7d6b-4e6e-ba51-7b659b26ebd3",
   "metadata": {},
   "source": [
    "### Q11. A valid mobile number is a ten digit number starting with a 7,8 or 9. For every string listed, print \"YES\" if it is a valid mobile number and \"NO\" if it is not on separate lines. Do not print the quotes. \n",
    "{2,9587456281,1252478965,7397260044}\n"
   ]
  },
  {
   "cell_type": "code",
   "execution_count": null,
   "id": "05a2cc4f-861d-46bb-a868-d57dd86d55cb",
   "metadata": {},
   "outputs": [],
   "source": [
    "mob_numbers = {2,9587456281,1252478965,7397260044}\n",
    "start_digit = [7,8,9]\n",
    "for mobNo in mob_numbers:\n",
    "    str_no = str(mobNo)\n",
    "    if len(str_no) == 10 and int(str_no[0]) in start_digit:\n",
    "         print(mobNo,\" is a valid mobile number\")\n",
    "    else:\n",
    "        print(mobNo,\" is not a valid mobile number\")"
   ]
  },
  {
   "cell_type": "markdown",
   "id": "7fbb8f9c-bddc-4588-aabb-5c423be7c713",
   "metadata": {},
   "source": [
    "### Q12. If left ventricular end diastolic diameter has a normal range: 3.5 - 5.6 cm, how many patients fall outside that limit and what is the MAP of most patients with this condition?"
   ]
  },
  {
   "cell_type": "code",
   "execution_count": null,
   "id": "a05f398c-5435-40ad-b3c0-cba2e4852eb6",
   "metadata": {},
   "outputs": [],
   "source": [
    "df_diastolicLV = df_CardiacComplications[[\"inpatient_number\",\"left_ventricular_end_diastolic_diameter_LV\"]].dropna()\n",
    "df_diastolicLV = df_diastolicLV.query('left_ventricular_end_diastolic_diameter_LV > 5.6 | left_ventricular_end_diastolic_diameter_LV < 3.5')\n",
    "df_map_analysis = pd.merge(df_diastolicLV[[\"inpatient_number\",\"left_ventricular_end_diastolic_diameter_LV\"]], df_Labs[[\"inpatient_number\",\"map\"]], on=\"inpatient_number\")\n",
    "print(\"No. of patients fall outside the limit:\",len(df_map_analysis))\n",
    "df_map_analysis = df_map_analysis.groupby(\"map\")[\"inpatient_number\"].count().reset_index()\n",
    "df_map_analysis.rename({'inpatient_number': 'PatientsCount'}, axis=1, inplace=True)\n",
    "print(\"MAP of most patients with this condition:\")\n",
    "print(df_map_analysis.loc[df_map_analysis['PatientsCount'].idxmax()])"
   ]
  },
  {
   "cell_type": "markdown",
   "id": "b660d160-3bad-4575-b672-ba674a0530aa",
   "metadata": {},
   "source": [
    "### Q13. Create a bar chart between lengthofstay and body temperature, classified as: Hypothermia, within range or hyperthermia"
   ]
  },
  {
   "cell_type": "code",
   "execution_count": null,
   "id": "2955aac7-42fc-4b99-bd1d-e499a1c35029",
   "metadata": {},
   "outputs": [],
   "source": [
    "df_tempCategory =  df_Labs[[\"inpatient_number\",\"body_temperature\"]]\n",
    "li_tempClassification = []\n",
    "for index, row in df_tempCategory.iterrows():\n",
    "    temp = row[\"body_temperature\"]\n",
    "    if temp > 37.5:\n",
    "        li_tempClassification.append(\"Hyperthermia\")\n",
    "    elif temp >= 36.5 and temp <= 37.5:\n",
    "        li_tempClassification.append(\"Within Range\")\n",
    "    elif temp < 36.5:\n",
    "        li_tempClassification.append(\"Hypothermia\")\n",
    "df_tempCategory.insert(2, \"TempClassification\", li_tempClassification, True)\n",
    "df_tempCategory_merge = pd.merge(df_Hospitalization_Discharge[[\"inpatient_number\",\"dischargeDay\"]], df_tempCategory[[\"inpatient_number\",\"TempClassification\"]], on=\"inpatient_number\")\n",
    "temp_classification_counts = df_tempCategory_merge.groupby('dischargeDay')['TempClassification'].value_counts().unstack(fill_value=0)\n",
    "#plt.figure(figsize=(15,20))\n",
    "temp_classification_counts.plot(kind='bar', stacked=True, colormap='Set3',figsize=(12,6))\n",
    "plt.xlabel(\"Discharge Day\")\n",
    "plt.ylabel(\"count\")\n",
    "plt.title(\"Distribution of Temperature Classifications by Discharge Day\")\n",
    "plt.show()"
   ]
  },
  {
   "cell_type": "markdown",
   "id": "e1a593fb-e9e4-43d5-8f01-8de95009a7e2",
   "metadata": {},
   "source": [
    "### Q14. Find the list of patients whose DischargeDay is greater than the value given by the user"
   ]
  },
  {
   "cell_type": "code",
   "execution_count": null,
   "id": "05f8da15-0e95-407f-a849-90c3ee19c2ca",
   "metadata": {},
   "outputs": [],
   "source": [
    "user_discharge_day = int(input(\"Enter the value for DischargeDay: \"))\n",
    "patients_greater_than_value = df_Hospitalization_Discharge[df_Hospitalization_Discharge['dischargeDay'] > user_discharge_day]\n",
    "list_of_patients = patients_greater_than_value['inpatient_number'].tolist()\n",
    "\n",
    "print(\"List of patients whose DischargeDay is greater than\", user_discharge_day, \":\")\n",
    "print(list_of_patients)"
   ]
  },
  {
   "cell_type": "code",
   "execution_count": null,
   "id": "ac99bb0d-492d-4a45-8441-e34e41087490",
   "metadata": {},
   "outputs": [],
   "source": [
    "user_input = input(\"Enter a positive number:\")\n",
    "df_Hospitalization_Discharge[df_Hospitalization_Discharge['dischargeDay'] > int(user_input)]"
   ]
  },
  {
   "cell_type": "markdown",
   "id": "d05ceed2-1a98-454f-a8c3-c94b5cd3164a",
   "metadata": {},
   "source": [
    "### Q15. Display a pie chart of number of patients in each category listed\n",
    "\n",
    "-death_within_28_days\n",
    "-re_admission_within_28_days\n",
    "-death_within_3_months \n",
    "-re_admission_within_3_months \n",
    "-death_within_6_months \n",
    "-re_admission_within_6_months\n",
    "-return_to_emergency_department_within_6_months"
   ]
  },
  {
   "cell_type": "code",
   "execution_count": null,
   "id": "0b485cce-354a-4931-baa9-e14caf8a6fe2",
   "metadata": {},
   "outputs": [],
   "source": [
    "def make_autopct(values):\n",
    "    def my_autopct(pct):\n",
    "        total = sum(values)\n",
    "        val = int(round(pct*total/100.0))\n",
    "        return '{p:.2f}%  ({v:d})'.format(p=pct,v=val)\n",
    "    return my_autopct\n",
    "    \n",
    "def patients_category():\n",
    "    dict_classification = {}\n",
    "    dict_classification[\"death_within_28_days\"] = df_Hospitalization_Discharge.query(\"death_within_28_days == 1\")[\"inpatient_number\"].count()\n",
    "    dict_classification[\"re_admission_within_28_days\"] = df_Hospitalization_Discharge.query(\"re_admission_within_28_days == 1\")[\"inpatient_number\"].count()\n",
    "    dict_classification[\"death_within_3_months\"] = df_Hospitalization_Discharge.query(\"death_within_3_months == 1\")[\"inpatient_number\"].count()\n",
    "    dict_classification[\"re_admission_within_3_months\"] = df_Hospitalization_Discharge.query(\"re_admission_within_3_months == 1\")[\"inpatient_number\"].count()\n",
    "    dict_classification[\"death_within_6_months\"] = df_Hospitalization_Discharge.query(\"death_within_6_months == 1\")[\"inpatient_number\"].count()\n",
    "    dict_classification[\"re_admission_within_6_months\"] = df_Hospitalization_Discharge.query(\"re_admission_within_6_months == 1\")[\"inpatient_number\"].count()\n",
    "    dict_classification[\"return_to_emergency_department_within_6_months\"] = df_Hospitalization_Discharge.query(\"return_to_emergency_department_within_6_months == 1\")[\"inpatient_number\"].count()\n",
    "    return dict_classification\n",
    "\n",
    "dict_classification = patients_category()\n",
    "cat_values = list(dict_classification.values())\n",
    "cat_labels = list(dict_classification.keys())\n",
    "fig, ax = plt.subplots(figsize=(6, 6))\n",
    "plt.pie(cat_values, labels=cat_labels,autopct=make_autopct(cat_values),colors=sns.color_palette('Set2'))\n",
    "plt.grid(False)\n",
    "ax.set_title('No. of Patients in each category')\n",
    "plt.show()"
   ]
  },
  {
   "cell_type": "markdown",
   "id": "17a775c2-ecf9-4f7d-8fb8-6f3f4deb2673",
   "metadata": {},
   "source": [
    "### Q16. Create a pivot table with myocardial_infarction, congestive_heart_failure,peripheral_vascular_disease as rows and average Uric Acid and BMI as columns, using melt functions"
   ]
  },
  {
   "cell_type": "code",
   "execution_count": null,
   "id": "328bd833-2689-40ea-86dc-c9721435fec7",
   "metadata": {},
   "outputs": [],
   "source": [
    "df_CardiacComplications1=df_CardiacComplications[['inpatient_number','myocardial_infarction','congestive_heart_failure','peripheral_vascular_disease']]\n",
    "melted_df = df_CardiacComplications1.melt(id_vars=['inpatient_number'], var_name='Row_name', value_name='value')\n",
    "merge_table=pd.merge(melted_df[[\"inpatient_number\",\"Row_name\",\"value\"]],df_Labs[[\"inpatient_number\",\"uric_acid\"]],on=\"inpatient_number\")\n",
    "merge_table_3rdtable=pd.merge(merge_table[[\"inpatient_number\",\"Row_name\",\"value\",\"uric_acid\"]],df_Demography[[\"inpatient_number\",\"BMI\"]],on=\"inpatient_number\")\n",
    "pd.pivot_table(merge_table_3rdtable, index=['Row_name'],values =['uric_acid','BMI'],aggfunc='mean')"
   ]
  },
  {
   "cell_type": "markdown",
   "id": "00a7381f-df95-4796-be44-02ca32184066",
   "metadata": {},
   "source": [
    "### Q17. Using arrays and loops find the number of patients who were Admitted in the month of November"
   ]
  },
  {
   "cell_type": "code",
   "execution_count": null,
   "id": "918f7067-2961-418b-9802-a2dd92cb4ff0",
   "metadata": {},
   "outputs": [],
   "source": [
    "# creating a list(array) to store values\n",
    "li_NovAdmission = []\n",
    "\n",
    "# reading patient number and admission date columns from Hospitalization_Discharge dataframe\n",
    "df_patient_adm_time = df_Hospitalization_Discharge[[\"inpatient_number\",\"Admission_date\"]]\n",
    "df_patient_adm_time = df_patient_adm_time.reset_index() \n",
    "\n",
    "# loopig to find the patients admitted in month of November\n",
    "for index,row in df_patient_adm_time.iterrows():\n",
    "    patientID = row[\"inpatient_number\"]\n",
    "    Adm_date = pd.to_datetime(row[\"Admission_date\"])\n",
    "    if pd.to_datetime(row[\"Admission_date\"]).month == 11:\n",
    "        li_NovAdmission.append(patientID)\n",
    "        \n",
    "print(\"Solution:\")\n",
    "print(\"Number of patients who were Admitted in the month of November:\",len(li_NovAdmission))"
   ]
  },
  {
   "cell_type": "markdown",
   "id": "13598656-3001-469e-afc5-eabeb5126c99",
   "metadata": {},
   "source": [
    "### Q18. Create a heatmap on any columns of your choice including at least 1 lab value"
   ]
  },
  {
   "cell_type": "code",
   "execution_count": null,
   "id": "1f20fea7-7b47-4057-8b10-de36a51018fd",
   "metadata": {},
   "outputs": [],
   "source": [
    "#Method 1\n",
    "df_Labs_heatmap = df_Labs[[\"pulse\",\"map\"]]\n",
    "plt.figure(figsize=(10,5))\n",
    "sns.heatmap(data = df_Labs_heatmap, cmap = 'hsv')\n",
    "plt.title('Heatmap of pulse and map', fontsize = 15)\n",
    "plt.show() "
   ]
  },
  {
   "cell_type": "code",
   "execution_count": null,
   "id": "453821cc-7690-4e6f-8f27-4b8a6a3aa1f1",
   "metadata": {},
   "outputs": [],
   "source": [
    "#Method 2 - Show the top 5 records in the dataframe\n",
    "df_Labs_heatmap = df_Labs[[\"pulse\",\"map\",\"systolic_blood_pressure\",\"diastolic_blood_pressure\"]].head(5)\n",
    "plt.figure(figsize=(8,3))\n",
    "sns.heatmap(data = df_Labs_heatmap, cmap = 'seismic')\n",
    "plt.title('Heatmap of Lab Values of top 5 patients', fontsize = 15)\n",
    "plt.show() "
   ]
  },
  {
   "cell_type": "markdown",
   "id": "fcd3f563-d464-43e9-8033-d9d1d8961aa6",
   "metadata": {},
   "source": [
    "### Q19. Create a bar chart by making list on Avg BMI and occupation column (with no duplicates) & make the hatchs onto the bar by using set_hatch() method."
   ]
  },
  {
   "cell_type": "code",
   "execution_count": null,
   "id": "29d5d882-5214-4e62-82c8-44a3ce05d276",
   "metadata": {},
   "outputs": [],
   "source": [
    "dict_data = {}\n",
    "df_Demography[\"occupation\"].fillna(\"NA\", inplace=True)\n",
    "unique_occupation = df_Demography[\"occupation\"].unique()\n",
    "for item in unique_occupation:\n",
    "    df_occ = df_Demography[df_Demography[\"occupation\"] == item]\n",
    "    dict_data[item] = round(df_occ[\"BMI\"].mean(),2)\n",
    "occupation = list(dict_data.keys())\n",
    "mean_BMI = list(dict_data.values())\n",
    "\n",
    "\n",
    "fig = plt.figure(figsize = (10, 5))\n",
    " \n",
    "# creating the bar plot\n",
    "patterns = ['**O', 'oO', 'O.O', '.||.','**','O.o']\n",
    "bars_occ = plt.bar(occupation, mean_BMI,color=\"purple\",width = 0.6,edgecolor='pink')\n",
    "for bar,pattern in zip(bars_occ,patterns):\n",
    "    bar.set_hatch(pattern)\n",
    "plt.xlabel(\"Occupation\")\n",
    "plt.ylabel(\"Average BMI\")\n",
    "plt.title(\"Bar Graph to Show Average BMI based on Occupation of the patients\")\n",
    "plt.show()"
   ]
  },
  {
   "cell_type": "markdown",
   "id": "f2f6251a-81d0-41ea-b244-a0552154c6ba",
   "metadata": {},
   "source": [
    "### Q20. You are given three integers x,y,z representing the dimensions of a cuboid along with an integer n . \n",
    "Print a list of all possible coordinates given by(i,j,k) on a 3D grid where the sum of i,j,k is not equal to n. \n",
    "x=1, y=1, z=2, n-3"
   ]
  },
  {
   "cell_type": "code",
   "execution_count": null,
   "id": "854df635-9a50-490b-8d08-f06e468e4075",
   "metadata": {},
   "outputs": [],
   "source": [
    "x,y,z = 1,1,2\n",
    "n = 3\n",
    "print(\"All possible coordinates:\")\n",
    "for i in range(x+1):\n",
    "    for j in range(y+1):\n",
    "        for k in range(z+1):\n",
    "            if i + j + k != 3:\n",
    "                print(i,j,k)"
   ]
  },
  {
   "cell_type": "markdown",
   "id": "06818468-7bfc-4b7d-bde9-cd3b9d9e6102",
   "metadata": {},
   "source": [
    "### Q21.Given the names and grades for each student in a class of students, store them in a nested list and print the name(s) of any student(s) having the second lowest grade.\n",
    "python_students = [['Harry', 37.21], ['Berry', 37.21], ['Tina', 37.2], ['Akriti', 41], ['Harsh', 39]]"
   ]
  },
  {
   "cell_type": "code",
   "execution_count": null,
   "id": "ee74cb8d-658f-481a-9682-6b0248614f1a",
   "metadata": {},
   "outputs": [],
   "source": [
    "# Method 1\n",
    "python_students = [['Harry', 37.21], ['Berry', 37.21], ['Tina', 37.2], ['Akriti', 41], ['Harsh', 39]]\n",
    "\n",
    "# sort the list based on the 2nd item in the inner lists using sort function\n",
    "python_students.sort(key = lambda item: item[1])\n",
    "# store the second lowest grade\n",
    "second_lowest_grade = python_students[2][1]\n",
    "\n",
    "# iterate to find the result\n",
    "print(\"Solution:\")\n",
    "print(\"Score and Names of students who has the second lowest score:\",second_lowest_grade)\n",
    "for name,mark in python_students:\n",
    "    if mark == second_lowest_grade:\n",
    "        print(name)\n",
    "    elif mark > second_lowest_grade:\n",
    "        break"
   ]
  },
  {
   "cell_type": "code",
   "execution_count": null,
   "id": "88cd4fd4-eaf4-46e9-b01d-479a88f898db",
   "metadata": {},
   "outputs": [],
   "source": [
    "# Method 2\n",
    "python_students = [['Harry', 37.21], ['Berry', 37.21], ['Tina', 37.2], ['Akriti', 41], ['Harsh', 39]]\n",
    "# initialize dictionary to store values\n",
    "dict_students = {}\n",
    "\n",
    "# sort the list based on the 2nd item in the inner lists using sorted function\n",
    "sorted_list = sorted(python_students, key=lambda item: item[1])\n",
    "\n",
    "# store the second lowest grade\n",
    "second_lowest_grade = sorted_list[2][1]\n",
    "\n",
    "# iterate to find the result\n",
    "print(\"Solution:\")\n",
    "print(\"Names of students who has the second lowest score:\",second_lowest_grade)\n",
    "for name,mark in python_students:\n",
    "    if mark not in dict_students:\n",
    "        dict_students[mark] = [name]\n",
    "    else:\n",
    "        dict_students[mark].append(name)\n",
    "\n",
    "dict_students.get(second_lowest_grade)"
   ]
  },
  {
   "cell_type": "markdown",
   "id": "6079c1d8-e3f7-4a95-b849-0f92da48838e",
   "metadata": {},
   "source": [
    "### Q22. Which patient was on the most number of prescribed drugs? What was his age and outcome?"
   ]
  },
  {
   "cell_type": "code",
   "execution_count": null,
   "id": "82d370ce-bc59-4477-a807-a26972944b7c",
   "metadata": {},
   "outputs": [],
   "source": [
    "# initialize dict\n",
    "dict_patient_drugs = {}\n",
    "for index,row in df_Patient_Precriptions.iterrows():\n",
    "    if row[\"inpatient_number\"] not in dict_patient_drugs:\n",
    "        dict_patient_drugs[row[\"inpatient_number\"]] = 1\n",
    "    else:\n",
    "        dict_patient_drugs[row[\"inpatient_number\"]] += 1\n",
    "# sort dict based on values\n",
    "sort_dict = sorted(dict_patient_drugs.items(), key=lambda item: item[1])\n",
    "# code to find the patient who is taking max drugs\n",
    "patient_maxDrugs = sort_dict[-1][0]\n",
    "print(\"Patient on the most number of drugs: \",patient_maxDrugs)\n",
    "# code to find Age Category of the patient\n",
    "patient_AgeCat = df_Demography.loc[df_Demography[\"inpatient_number\"] == patient_maxDrugs, \"ageCat\"].iloc[0]\n",
    "print(\"Age: \", patient_AgeCat)\n",
    "# code to find the outcome of the patient\n",
    "outcome = df_Hospitalization_Discharge.loc[df_Hospitalization_Discharge[\"inpatient_number\"] == patient_maxDrugs, \"outcome_during_hospitalization\"].iloc[0]\n",
    "print(\"Outcome: \", outcome)"
   ]
  },
  {
   "cell_type": "markdown",
   "id": "ea44a17a-b082-4d2f-a099-ed0fe849d4de",
   "metadata": {},
   "source": [
    "### Q23. How many patients were prescribed Digoxin?"
   ]
  },
  {
   "cell_type": "code",
   "execution_count": null,
   "id": "aa86f493-06bf-4ec9-afe7-92efe3b88523",
   "metadata": {},
   "outputs": [],
   "source": [
    "# Method 1\n",
    "# read details from Patient_Precriptions data frame \n",
    "df_Digoxin_tablet = df_Patient_Precriptions[df_Patient_Precriptions[\"Drug_name\"] == \"Digoxin tablet\"]\n",
    "print(\"Solution:\")\n",
    "print(\"Number of patients were prescribed Digoxin:\", df_Digoxin_tablet.shape[0])"
   ]
  },
  {
   "cell_type": "code",
   "execution_count": null,
   "id": "a5cf9ec1-1b74-4670-8aed-ce2b9bb3fe4d",
   "metadata": {},
   "outputs": [],
   "source": [
    "# Method 2\n",
    "# read details from Patient_Precriptions data frame \n",
    "df_Digoxin_tablet = df_Patient_Precriptions[df_Patient_Precriptions[\"Drug_name\"] == \"Digoxin tablet\"]\n",
    "li_Digoxin_Patients = []\n",
    "for index, row in df_Digoxin_tablet.iterrows():\n",
    "    if row[\"inpatient_number\"] not in li_Digoxin_Patients:\n",
    "        li_Digoxin_Patients.append(row[\"inpatient_number\"])\n",
    "\n",
    "print(\"Solution:\")\n",
    "print(\"Number of patients were prescribed Digoxin:\", len(li_Digoxin_Patients))"
   ]
  },
  {
   "cell_type": "markdown",
   "id": "c492873a-10d8-4785-813a-d7c4c1ce4afa",
   "metadata": {},
   "source": [
    "### Q24. What columns indicate a prescence of anemia? Create a severity score for anemia and prove or disprove a correlation to Length of stay"
   ]
  },
  {
   "cell_type": "markdown",
   "id": "ab4793b2-6f63-400f-b5c7-54a9084ac1a9",
   "metadata": {},
   "source": [
    "#### Note:\n",
    "##### Considering the hemoglobin range to find the severity score for Anemia:\n",
    "\n",
    "###### above-normal : > 170(99)\n",
    "###### normal:130 to 170(0)\n",
    "###### Mild: Hemoglobin 10.0 g/dL to lower limit of normal - 100 to 129(1)\n",
    "###### Moderate: Hemoglobin 8.0 to 10.0 g/dL - 80 to 99(2)\n",
    "###### Severe: Hemoglobin 6.5 to 7.9 g/dL[1] - 65 to 79(3)\n",
    "###### Life-threatening: Hemoglobin less than 6.5 g/dL - < 65(4)\n",
    "###### Since we need to find correlation between Anemia and Length of Stay - we have considered severity score from 1 to 4."
   ]
  },
  {
   "cell_type": "code",
   "execution_count": null,
   "id": "4cc08b8b-b71e-438b-affd-1b5dd68ca81b",
   "metadata": {},
   "outputs": [],
   "source": [
    "print(\"red_blood_cell,Hemoglobin,Hematocrit - columns indicate a presence of Anemia.\")\n",
    "print(\"-----------------------------------------------------------------------------\")\n",
    "# function to find severity score for anemia\n",
    "def severity_score():\n",
    "    li_AnemiaSeverity = []\n",
    "    df_hemoglobin_severity = df_Labs.loc[:,[\"inpatient_number\",\"hemoglobin\"]]\n",
    "    for index,row in df_hemoglobin_severity.iterrows():\n",
    "        hemo_value = row[\"hemoglobin\"]\n",
    "        if pd.isnull(row[\"hemoglobin\"]) or int(hemo_value) > 170:\n",
    "            li_AnemiaSeverity.append(99)\n",
    "        elif (hemo_value >= 130 and hemo_value <= 170):\n",
    "            li_AnemiaSeverity.append(0)\n",
    "        elif hemo_value >= 100 and hemo_value <= 129:\n",
    "            li_AnemiaSeverity.append(1)\n",
    "        elif hemo_value >= 80 and hemo_value <= 99:\n",
    "            li_AnemiaSeverity.append(2)\n",
    "        elif hemo_value >= 65 and hemo_value <= 79:\n",
    "            li_AnemiaSeverity.append(3)\n",
    "        else:\n",
    "            li_AnemiaSeverity.append(4)\n",
    "    df_hemoglobin_severity[\"AnemiaSeverity\"] = li_AnemiaSeverity\n",
    "    # returning only the Anemia patients\n",
    "    return df_hemoglobin_severity.query(\"AnemiaSeverity >= 1 & AnemiaSeverity <= 4\")\n",
    "\n",
    "def correlation_Anemia_LengthofStay(df_corr):\n",
    "    # finding co-relation between anemia and length of stay. Considering \"dischargeDay\" column for Length of stay\n",
    "    df_corr = pd.merge(df_Hospitalization_Discharge[[\"inpatient_number\",\"dischargeDay\"]], df_corr[[\"inpatient_number\",\"AnemiaSeverity\"]], on=\"inpatient_number\")\n",
    "    df_corr.rename({'dischargeDay': 'Length_of_Stay'}, axis=1, inplace=True)\n",
    "    cor_value = df_corr[\"Length_of_Stay\"].corr(df_corr[\"AnemiaSeverity\"])\n",
    "    cor_result = \"\"\n",
    "    if cor_value > 0.7:\n",
    "        cor_result = \"Strong positive correlation between Anemia and Length of Stay\"\n",
    "    elif cor_value > 0.3:\n",
    "        cor_result = \"Moderate positive correlation between Anemia and Length of Stay\"\n",
    "    elif cor_value > 0:\n",
    "        cor_result = \"Weak positive correlation between Anemia and Length of Stay\"\n",
    "    elif cor_value == 0:\n",
    "        cor_result = \"No correlation between Anemia and Length of Stay\"\n",
    "    elif cor_value > -0.3:\n",
    "        cor_result = \"Weak negative correlation between Anemia and Length of Stay\"\n",
    "    elif cor_value > -0.7:\n",
    "        cor_result = \"Moderate negative correlation between Anemia and Length of Stay\"\n",
    "    else:\n",
    "        cor_result = \"Strong negative correlation between Anemia and Length of Stay.\"\n",
    "    print(\"Corelation Value: \",cor_value, \".So it is: \", cor_result)\n",
    "    print(\"-----------------------------------------------------------------------------\")\n",
    "    print(\"Correlation Chart:\")\n",
    "    ax = sns.heatmap(df_corr[[\"Length_of_Stay\",\"AnemiaSeverity\"]].corr(), annot=True)\n",
    "\n",
    "# function call to find severity score\n",
    "df_hemoglobin_severity = severity_score()\n",
    "# function call to find correlation\n",
    "correlation_Anemia_LengthofStay(df_hemoglobin_severity)\n"
   ]
  },
  {
   "cell_type": "markdown",
   "id": "59e8d0dc-10ef-4ac0-83e7-dc9de3e39ea1",
   "metadata": {},
   "source": [
    "### Q25.Using GCS score, how many patients are considered to be in a coma?"
   ]
  },
  {
   "cell_type": "code",
   "execution_count": null,
   "id": "cec3df81-3990-4de9-85cf-55a1373a5f0d",
   "metadata": {},
   "outputs": [],
   "source": [
    "# Method 1\n",
    "# As per wikipedia, Patients with scores of 3 to 8 are usually considered to be in a coma.\n",
    "df_Coma = df_Responsiveness[df_Responsiveness[\"GCS\"] <= 8]\n",
    "print(\"Number of patients considered to be in coma: \", len(df_Coma))"
   ]
  },
  {
   "cell_type": "code",
   "execution_count": null,
   "id": "0ae77927-7f10-46cd-b8ad-6b69d90a07fe",
   "metadata": {},
   "outputs": [],
   "source": [
    "#Method 2\n",
    "li_coma_patients = []\n",
    "df_patient_GCS = df_Responsiveness[[\"inpatient_number\",\"GCS\"]]\n",
    "for index, row in df_patient_GCS.iterrows():\n",
    "    if row[\"GCS\"] <= 8:\n",
    "        li_coma_patients.append(row[\"inpatient_number\"])\n",
    "print(\"Number of patients considered to be in coma: \",len(li_coma_patients))"
   ]
  },
  {
   "cell_type": "markdown",
   "id": "c7e8866c-aada-454e-bae3-34d9b13c09f3",
   "metadata": {},
   "source": [
    "### Q26. Create a column that randomly generates an age between the age group given for each patient. What was the average age of the patients?"
   ]
  },
  {
   "cell_type": "code",
   "execution_count": null,
   "id": "93eec1db-204c-4974-b3b3-9a0482b09216",
   "metadata": {},
   "outputs": [],
   "source": [
    "# code to generate random age based on Age Category and to a list\n",
    "li_rand_age = []\n",
    "df_Demography_ageCat = df_Demography[\"ageCat\"]\n",
    "df_Demography_ageCat = df_Demography_ageCat.reset_index()\n",
    "for index,row in df_Demography_ageCat.iterrows():\n",
    "    li_age = (row[\"ageCat\"]).split('-')\n",
    "    rand_age = random.randrange(int(li_age[0]),int(li_age[1]))\n",
    "    li_rand_age.append(rand_age)\n",
    "# add new column to the Demography dataframe\n",
    "df_Demography[\"Age\"] = li_rand_age\n",
    "# find the average of the newly added age column\n",
    "avg_age = round(df_Demography[\"Age\"].mean(),2)\n",
    "print(\"The average age of the patients: \", avg_age)"
   ]
  },
  {
   "cell_type": "markdown",
   "id": "13b71a82-e7a9-4dfb-9ccc-7d4780e67baa",
   "metadata": {},
   "source": [
    "### Q27. Using the age column generated in Q.26, calculate year of birth for each patient"
   ]
  },
  {
   "cell_type": "code",
   "execution_count": null,
   "id": "dea961f6-10a1-422d-84ca-93cdc7606c40",
   "metadata": {},
   "outputs": [],
   "source": [
    "year_of_birth = []\n",
    "df_patient_birthYear = pd.merge(df_Hospitalization_Discharge[[\"inpatient_number\",\"Admission_date\"]], df_Demography[[\"inpatient_number\",\"Age\"]], on=\"inpatient_number\")\n",
    "for index,row in df_patient_birthYear.iterrows():\n",
    "    adm_year = pd.to_datetime(row[\"Admission_date\"]).year\n",
    "    birth_year = adm_year - row[\"Age\"]\n",
    "    year_of_birth.append(birth_year)\n",
    "\n",
    "df_Demography[\"Year_of_Birth\"] = year_of_birth\n",
    "print(df_Demography[[\"inpatient_number\",\"ageCat\",\"Age\",\"Year_of_Birth\"]])"
   ]
  },
  {
   "cell_type": "markdown",
   "id": "2d1d14e1-d288-4977-89fe-7a32d38ea471",
   "metadata": {},
   "source": [
    "### Q28.Store patient number and gender in a dictionary as a pair of values. Show the first 10 values"
   ]
  },
  {
   "cell_type": "code",
   "execution_count": null,
   "id": "758a3ef8-9f3d-4c0c-8a0b-9d465fc94547",
   "metadata": {},
   "outputs": [],
   "source": [
    "# initialize a dictionary to store values\n",
    "dict_patient_gender = {}\n",
    "\n",
    "df_patient_gender = pd.DataFrame(df_Demography, columns=[\"inpatient_number\",\"gender\"])\n",
    "# read the data and store it in dict\n",
    "for index, row in df_patient_gender.iterrows():\n",
    "    dict_patient_gender[row[\"inpatient_number\"]] = row[\"gender\"]\n",
    "\n",
    "# convert the dict to list and show the first 10 items. The output will be tuples inside a list\n",
    "print(\"Solution:\")\n",
    "print(\"First 10 Patient Number and their Gender\")\n",
    "print(list(dict_patient_gender.items())[:10])"
   ]
  },
  {
   "cell_type": "markdown",
   "id": "364e35e5-c689-404c-9eba-869adb6e8eed",
   "metadata": {},
   "source": [
    "### Q29. What percentage of those in a coma also have diabetes?"
   ]
  },
  {
   "cell_type": "code",
   "execution_count": null,
   "id": "cc10533a-e17f-4f4d-86fd-6db6e17d8ed1",
   "metadata": {},
   "outputs": [],
   "source": [
    "# Method 1\n",
    "diabetic_count = 0\n",
    "for index,row in df_Coma.iterrows():\n",
    "    is_diabetic = df_PatientHistory.loc[df_PatientHistory[\"inpatient_number\"] == row[\"inpatient_number\"], \"diabetes\"].iloc[0]\n",
    "    if is_diabetic:\n",
    "        diabetic_count += 1\n",
    "        \n",
    "print(\"Number of patients considered to be in coma: \",len(df_Coma))\n",
    "print(\"Number of diabetic patients considered to be in coma: \",diabetic_count)\n",
    "percent_value = round(diabetic_count/len(df_Coma) * 100,2)\n",
    "print(\"Percentage of those in a coma also have diabetes: \", str(percent_value) + \"%\")"
   ]
  },
  {
   "cell_type": "code",
   "execution_count": null,
   "id": "3b843288-aef0-472e-889f-f90b4460a530",
   "metadata": {},
   "outputs": [],
   "source": [
    "# Method 2\n",
    "# using coma patients list from Q.25\n",
    "diabetic_count = 0\n",
    "for patient in li_coma_patients:\n",
    "    is_diabetic = df_PatientHistory.loc[df_PatientHistory[\"inpatient_number\"] == patient, \"diabetes\"].iloc[0]\n",
    "    if is_diabetic:\n",
    "        diabetic_count += 1\n",
    "        \n",
    "print(\"Number of patients considered to be in coma: \",len(li_coma_patients))\n",
    "print(\"Number of diabetic patients considered to be in coma: \",diabetic_count)\n",
    "percent_value = round(diabetic_count/len(li_coma_patients) * 100,2)\n",
    "print(\"Percentage of those in a coma also have diabetes: \", str(percent_value) + \"%\")\n"
   ]
  },
  {
   "cell_type": "markdown",
   "id": "27562f94-f52f-44e4-9cc0-01f00f8e6da1",
   "metadata": {},
   "source": [
    "### Q30. Identify any columns relating to echocardiography and create a severity score for cardiac function. Compare this outcome and show average severity score for each outcome"
   ]
  },
  {
   "cell_type": "code",
   "execution_count": null,
   "id": "e6c19b15-0eb2-4b9e-99ac-be1936aeb000",
   "metadata": {},
   "outputs": [],
   "source": [
    "df_echocardiography_cardiacfn = df_CardiacComplications[[\"inpatient_number\",\"LVEF\"]].dropna()\n",
    "\n",
    "def severityScore_cardiacfn(df_echocardiography_cardiacfn):\n",
    "    li_severityscore = []\n",
    "    for index,row in df_echocardiography_cardiacfn.iterrows():\n",
    "        LVEF_value = row[\"LVEF\"]\n",
    "        if LVEF_value >= 55:\n",
    "            li_severityscore.append(0)\n",
    "        elif LVEF_value >= 40 and LVEF_value <= 54:\n",
    "            li_severityscore.append(1)\n",
    "        elif LVEF_value >= 30 and LVEF_value <= 39:\n",
    "            li_severityscore.append(2)\n",
    "        elif LVEF_value < 30:\n",
    "            li_severityscore.append(3)\n",
    "    df_echocardiography_cardiacfn[\"CardiacFunction_Severity\"] = li_severityscore\n",
    "    return df_echocardiography_cardiacfn\n",
    "\n",
    "df_sevScore = severityScore_cardiacfn(df_echocardiography_cardiacfn)\n",
    "df_outcome = df_corr = pd.merge(df_sevScore[[\"inpatient_number\",\"CardiacFunction_Severity\"]], df_Hospitalization_Discharge[[\"inpatient_number\",\"outcome_during_hospitalization\"]], on=\"inpatient_number\")\n",
    "print(df_outcome.groupby(\"outcome_during_hospitalization\")[\"CardiacFunction_Severity\"].mean())"
   ]
  },
  {
   "cell_type": "markdown",
   "id": "8b7e1ef3-7b0c-48e7-b244-f0d97bdf58cb",
   "metadata": {},
   "source": [
    "### Q31. Group the days to re-admission into bins and count how many patients were in each bin"
   ]
  },
  {
   "cell_type": "code",
   "execution_count": null,
   "id": "6efe9338-13b5-4948-a4f6-a2a690599e7e",
   "metadata": {},
   "outputs": [],
   "source": [
    "df_readmission = df_Hospitalization_Discharge[[\"inpatient_number\",\"readmission_time_days_from_admission\"]].dropna()\n",
    "df_readmission.rename({'readmission_time_days_from_admission': 'readmission_days'}, axis=1, inplace=True)\n",
    "df_readmission['bins'] = pd.cut(x=df_readmission['readmission_days'], bins=10)\n",
    "df_readmission = df_readmission.groupby(['bins'])['inpatient_number'].count().reset_index()\n",
    "df_readmission.rename({'inpatient_number': 'PatientsCount'}, axis=1, inplace=True)\n",
    "df_readmission"
   ]
  },
  {
   "cell_type": "markdown",
   "id": "a3dfb34f-6bb8-4002-905d-4211cd213f4e",
   "metadata": {},
   "source": [
    "### Q32. Combine admission_ward & admission_way and count the patients under the new group. Create a pie chart and explode the biggest wedge"
   ]
  },
  {
   "cell_type": "code",
   "execution_count": null,
   "id": "afcd9c34-0ecf-4134-9fc1-19d79df2dd70",
   "metadata": {},
   "outputs": [],
   "source": [
    "df_new_group = df_Hospitalization_Discharge.loc[:, ['inpatient_number','admission_ward','admission_way']]\n",
    "df_new_group['admission_ward_way'] = df_new_group[[\"admission_ward\", \"admission_way\"]].apply(\"-\".join, axis=1)\n",
    "df_result = df_new_group.groupby('admission_ward_way')['inpatient_number'].count()\n",
    "explode = (0, 0.2, 0, 0,0,0,0,0)  \n",
    "plot = df_result.plot.pie(subplots=True, figsize=(11, 6),label=\"\", explode = explode,shadow = True)\n",
    "plt.show()"
   ]
  },
  {
   "cell_type": "markdown",
   "id": "309fb8da-8937-46af-bd3d-938d01aba7b3",
   "metadata": {},
   "source": [
    "### Q33.Retrieve the row with minimum white_blood_cell count using sorting technique."
   ]
  },
  {
   "cell_type": "code",
   "execution_count": null,
   "id": "fc9144d0-1b3d-469c-a32a-d24b9579694e",
   "metadata": {},
   "outputs": [],
   "source": [
    "#Method 1\n",
    "df_Labs.sort_values(by='white_blood_cell',ascending=True, kind='quicksort').head(1)"
   ]
  },
  {
   "cell_type": "code",
   "execution_count": null,
   "id": "3cbcefbe-d386-4cdc-a6d1-b66561431d7f",
   "metadata": {},
   "outputs": [],
   "source": [
    "#Method 2\n",
    "df_Labs.sort_values('white_blood_cell', ascending=True).iloc[0]"
   ]
  },
  {
   "cell_type": "markdown",
   "id": "39a74ea3-b435-43bf-aa4b-3c16e872a926",
   "metadata": {},
   "source": [
    "### Q34. get the last letter of discharge_department of patients using RegEX"
   ]
  },
  {
   "cell_type": "code",
   "execution_count": null,
   "id": "9e9a05ae-3cc7-47cd-b629-9bb7b0dccabd",
   "metadata": {},
   "outputs": [],
   "source": [
    "department = df_Hospitalization_Discharge['discharge_department']\n",
    "print(type(department))\n",
    "for dept in department:\n",
    "    lastChar = re.findall(r\"\\w$\", dept)\n",
    "    print(lastChar[0])"
   ]
  },
  {
   "cell_type": "markdown",
   "id": "4263533c-0941-4338-a25e-c94c8d8f0f73",
   "metadata": {},
   "source": [
    "### Q35.find the way to reverse string for given input (eg: input : This hackathon is about cardiac outcomes: outcomes cardiac about is hackathon This)"
   ]
  },
  {
   "cell_type": "code",
   "execution_count": null,
   "id": "18c41531-4f04-424a-bee9-b917a72f209f",
   "metadata": {},
   "outputs": [],
   "source": [
    "string =\"This hackathon is about cardiac outcomes\"\n",
    "# reversing words in a given string\n",
    "splitstring = string.split()[::-1]\n",
    "listword = []\n",
    "for word in splitstring:\n",
    "    listword.append(word)\n",
    "print(\" \".join(listword))"
   ]
  },
  {
   "cell_type": "markdown",
   "id": "34e26474-c885-4112-b4cb-adc16c912ec8",
   "metadata": {},
   "source": [
    "### Q36. Use the QB style library to create any multidimensional arrays.Create a figure object called fig using plt.figure() **\n",
    "** Use add_axes to add an axis to the figure canvas at [0,0,1,1]. Call this new axis ax. **\n",
    "** Plot (x,y) on that axes and set the labels."
   ]
  },
  {
   "cell_type": "code",
   "execution_count": null,
   "id": "e12be728-2627-4305-a5d1-e861964a5a33",
   "metadata": {},
   "outputs": [],
   "source": [
    "pip install qbstyles"
   ]
  },
  {
   "cell_type": "code",
   "execution_count": null,
   "id": "a056df9c-f60c-4cec-b246-719b50172592",
   "metadata": {},
   "outputs": [],
   "source": [
    "from qbstyles import mpl_style\n",
    "mpl_style(dark=True)\n",
    "multi_arr1 = np.array([[1,2],[3,4]])\n",
    "multi_arr2 = multi_arr1**2\n",
    "fig = plt.figure()\n",
    "ax = fig.add_axes([0,0,1,1])\n",
    "ax = plt.plot(multi_arr1, multi_arr2)\n",
    "plt.grid(False)\n",
    "plt.title('Exploring fig,axes')\n",
    "plt.xlabel(\"Array 1\")\n",
    "plt.ylabel(\"Array 2\")\n",
    "plt.show()"
   ]
  },
  {
   "cell_type": "markdown",
   "id": "67999d00-347e-4c22-aed4-3fcdd2134387",
   "metadata": {},
   "source": [
    "### Q37.Using dischargeDay values print even if it even number and odd if it odd number"
   ]
  },
  {
   "cell_type": "code",
   "execution_count": null,
   "id": "8c94dd79-f406-4bd0-a096-4727c734fbe8",
   "metadata": {},
   "outputs": [],
   "source": [
    "discharge=df_Hospitalization_Discharge['dischargeDay']\n",
    "for row_value in discharge:\n",
    "    if row_value%2 == 0:\n",
    "        print(row_value,\"is an even number\")\n",
    "    else:\n",
    "        print(row_value,\"is an odd number\")"
   ]
  },
  {
   "cell_type": "markdown",
   "id": "bf22bedc-0ea4-4d77-90f8-eb109bf30d3a",
   "metadata": {},
   "source": [
    "### Q38. find the length of Tuple for any given input (Hint: Input a string from user )"
   ]
  },
  {
   "cell_type": "code",
   "execution_count": null,
   "id": "dec2e8b3-f877-4f13-810a-7358a76ceede",
   "metadata": {},
   "outputs": [],
   "source": [
    "#taking a input from user and converting as tuple.\n",
    "input_string=tuple(input('Enter the string: ').split(' '))\n",
    "print(\"The length of tuple: \",len(input_string))"
   ]
  },
  {
   "cell_type": "markdown",
   "id": "1966397b-bd47-477c-aeac-2dff00f12677",
   "metadata": {},
   "source": [
    "### Q39. Create a subplot on x = np.arange(0, 10, 0.1) , y = np.sin(np.pi * x) + x with 2 rows & 2 columns with object oriented approach"
   ]
  },
  {
   "cell_type": "code",
   "execution_count": null,
   "id": "4077c57e-608f-44e3-9df9-71c73a6f3b34",
   "metadata": {},
   "outputs": [],
   "source": [
    "x = np.arange(0, 10,0.1) \n",
    "y = np.sin(np.pi * x) + x \n",
    "fig, axs = plt.subplots(2, 2)\n",
    "\n",
    "axs[0, 0].plot(x, y)\n",
    "axs[0, 0].set_title('Axis [0, 0]')\n",
    "axs[0, 1].plot(x, y, 'tab:orange')\n",
    "axs[0, 1].set_title('Axis [0, 1]')\n",
    "axs[1, 0].plot(x, -y, 'tab:green')\n",
    "axs[1, 0].set_title('Axis [1, 0]')\n",
    "axs[1, 1].plot(x, -y, 'tab:red')\n",
    "axs[1, 1].set_title('Axis [1, 1]')\n",
    "\n",
    "for ax in axs.flat:\n",
    "    ax.set(xlabel='x-label', ylabel='y-label')\n",
    "    # Hide x labels and tick labels for top plots and y ticks for right plots.\n",
    "for ax in axs.flat:\n",
    "    ax.label_outer()"
   ]
  },
  {
   "cell_type": "markdown",
   "id": "6a9b223d-8554-47db-94aa-1af2db8fb867",
   "metadata": {},
   "source": [
    "### Q40. Select 25 different random values between 200 to 800."
   ]
  },
  {
   "cell_type": "code",
   "execution_count": null,
   "id": "80169be7-cb8b-47d8-a05b-b08eca8a70b4",
   "metadata": {},
   "outputs": [],
   "source": [
    "#Method 1\n",
    "random_list = random.sample(range(200, 800), 25)\n",
    "print(random_list)"
   ]
  },
  {
   "cell_type": "code",
   "execution_count": null,
   "id": "f62af709-2256-4011-99bd-624ac7d1fab2",
   "metadata": {},
   "outputs": [],
   "source": [
    "#Method 2\n",
    "randomlist = []\n",
    "for i in range(25):\n",
    "    num = random.randint(200,800)\n",
    "    randomlist.append(num)\n",
    "print(randomlist)"
   ]
  },
  {
   "cell_type": "markdown",
   "id": "b2645082-f47d-4a55-bdca-51a564d75c16",
   "metadata": {},
   "source": [
    "### Q41.Plot the time series of Admission dates with count of patients. The X-Axis should be for every 5 months"
   ]
  },
  {
   "cell_type": "code",
   "execution_count": null,
   "id": "9295f67a-7e6a-457a-ad10-a777f6c814d4",
   "metadata": {},
   "outputs": [],
   "source": [
    "import warnings\n",
    "warnings.filterwarnings('ignore')\n",
    "warnings.warn('Error: A warning just appeared')"
   ]
  },
  {
   "cell_type": "code",
   "execution_count": null,
   "id": "2c0d1031-cc1f-45d4-8f11-e2950329ecfd",
   "metadata": {},
   "outputs": [],
   "source": [
    "li_startdate=[]\n",
    "li_enddate=[]\n",
    "li_patient_count = []\n",
    "min_date = df_Hospitalization_Discharge['Admission_date'].min()\n",
    "max_date = df_Hospitalization_Discharge['Admission_date'].max()\n",
    "while min_date<= max_date:\n",
    "    future_date = min_date+ relativedelta(months=5)\n",
    "    li_startdate.append(min_date)\n",
    "    end_date = future_date- relativedelta(days=1)\n",
    "    li_enddate.append(end_date)\n",
    "    df_patient_count = df_Hospitalization_Discharge[(df_Hospitalization_Discharge['Admission_date'] >= min_date) & (df_Hospitalization_Discharge['Admission_date']<=end_date)]\n",
    "    li_patient_count.append(len(df_patient_count))\n",
    "    min_date=future_date\n",
    "df=pd.DataFrame()\n",
    "df['start_date']= li_startdate\n",
    "df['end_date']=li_enddate\n",
    "df['patient_count']=li_patient_count\n",
    "print(df)\n",
    "plt.figure(figsize=(10, 4))\n",
    "fig=sns.lineplot(x = df['start_date'], y = df['patient_count'], data = df) \n",
    "ticks, labels = plt.xticks()\n",
    "#plt.xticks(ticks[::2], labels[::5])\n",
    "fig.set(xlabel =\"Every 5 Month\", ylabel = \"patients Count\", title = 'Patients admission on every 5 month')"
   ]
  },
  {
   "cell_type": "markdown",
   "id": "85fd8a7b-db54-4c58-87e7-7fec891aa815",
   "metadata": {},
   "source": [
    "### Q42. np.arange(1,21).reshape(4,5), find array slicing to get the elements 1,2,8,19. \n",
    "When the value is less than 9, print as 0,else print 1"
   ]
  },
  {
   "cell_type": "code",
   "execution_count": null,
   "id": "a63b8743-4ab3-4dd9-b092-13a4bf366b97",
   "metadata": {},
   "outputs": [],
   "source": [
    "arr=np.arange(1,21).reshape(4,5)\n",
    "slicing=(arr[0:1,0:2])\n",
    "slicing=np.append(slicing,arr[1,2])\n",
    "slicing=np.append(slicing,arr[3,3])\n",
    "for i in slicing:\n",
    "    if i<9:\n",
    "        print(\"0\")     \n",
    "    else:\n",
    "        print(\"1\")"
   ]
  },
  {
   "cell_type": "markdown",
   "id": "0f79f027-0f88-4a51-b181-381ca5c50c7d",
   "metadata": {},
   "source": [
    "### Q43. Give Distribution chart of max Killip_grade"
   ]
  },
  {
   "cell_type": "code",
   "execution_count": null,
   "id": "b951f2ee-5b57-4fbe-990a-5be296249a6e",
   "metadata": {},
   "outputs": [],
   "source": [
    "# Distribution chart of max Killip_grade\n",
    "max_killip_grade=(df_CardiacComplications[df_CardiacComplications.Killip_grade == df_CardiacComplications.Killip_grade.max()])\n",
    "sns.distplot(max_killip_grade['Killip_grade'])"
   ]
  },
  {
   "cell_type": "code",
   "execution_count": null,
   "id": "0e77b006-c71b-4c87-af9d-f12b0d6a1e62",
   "metadata": {},
   "outputs": [],
   "source": [
    "## Distribution chart of Killip_grade\n",
    "sns.distplot(df_CardiacComplications['Killip_grade'],kde=True,bins=10)"
   ]
  },
  {
   "cell_type": "markdown",
   "id": "ef0dee8f-ba9e-4888-8721-6fd7764e301d",
   "metadata": {},
   "source": [
    "### Q44.Based on Q26 and 27 display all demographic details of patients who are born in year 1945"
   ]
  },
  {
   "cell_type": "code",
   "execution_count": null,
   "id": "56866acd-deb3-44fa-aa53-266728aafc3c",
   "metadata": {},
   "outputs": [],
   "source": [
    "demography_1945_born = df_Demography.query(\"Year_of_Birth == 1945\")\n",
    "demography_1945_born"
   ]
  },
  {
   "cell_type": "markdown",
   "id": "d948709d-2a2f-4fe6-b579-0c57783aaab7",
   "metadata": {},
   "source": [
    "### Q45. Create a dataframe with date and time as columns, where the values are the admission time"
   ]
  },
  {
   "cell_type": "code",
   "execution_count": null,
   "id": "a87c0db8-1658-4263-8807-7ebd6eb3fe21",
   "metadata": {},
   "outputs": [],
   "source": [
    "df_adm_date_time = pd.DataFrame()\n",
    "df_adm_date_time[\"Admission_date\"]= df_Hospitalization_Discharge['Admission_date']\n",
    "df_adm_date_time[\"date_only\"]= df_adm_date_time['Admission_date'].dt.date\n",
    "df_adm_date_time[\"time_only\"]= df_adm_date_time['Admission_date'].dt.time\n",
    "df_adm_date_time"
   ]
  },
  {
   "cell_type": "markdown",
   "id": "a535c361-6db5-4099-8955-7fc759d1ebd2",
   "metadata": {},
   "source": [
    "### Q46. Convert occupation into numeric by Label encoding"
   ]
  },
  {
   "cell_type": "code",
   "execution_count": null,
   "id": "f4a732d5-a0a4-43f0-a888-ed58f8443a44",
   "metadata": {},
   "outputs": [],
   "source": [
    "from sklearn.preprocessing import LabelEncoder\n",
    "df_Demography['occupation'].unique()\n",
    "label_encoder = LabelEncoder()\n",
    "df_Demography['occupation'] = label_encoder.fit_transform(df_Demography['occupation'])\n",
    "df_Demography"
   ]
  },
  {
   "cell_type": "markdown",
   "id": "07f9cefc-cd17-4cbe-9789-be3a458e2170",
   "metadata": {},
   "source": [
    "### Q47. Generate a 3x3 Array using Random values between 1to 9 and Fix the values and position in Next Run."
   ]
  },
  {
   "cell_type": "code",
   "execution_count": null,
   "id": "2b16223d-2d08-4121-b8ac-f5c304de995b",
   "metadata": {},
   "outputs": [],
   "source": [
    "print(\"Fixed values 3x3 Array using Random values of 1 to 9 :\")\n",
    "np.random.seed(1)\n",
    "np.random.randint(1,9, size = (3,3))"
   ]
  },
  {
   "cell_type": "markdown",
   "id": "0d0cd333-84a3-47a7-b0cb-3f8924311af3",
   "metadata": {},
   "source": [
    "### Q48. Using loops, create a multiplication table for the number 7"
   ]
  },
  {
   "cell_type": "code",
   "execution_count": null,
   "id": "ae240609-ba97-4ad5-9015-9c5d8ae56f87",
   "metadata": {},
   "outputs": [],
   "source": [
    "print(\"Multiplication Table for number 7\")\n",
    "times_table = 7\n",
    "for i in range(1,13):\n",
    "    print(f\"{i} x {times_table} = {i*times_table}\", end=\"\\n\")"
   ]
  },
  {
   "cell_type": "markdown",
   "id": "6a514c6f-b439-4d04-b124-fe7a666d6006",
   "metadata": {},
   "source": [
    "### Q49. Connect to sql and write a query to find all patients who have a gender of 'Male' ( Attach screenshots for this question)"
   ]
  },
  {
   "cell_type": "code",
   "execution_count": null,
   "id": "8577cd25-5edc-497e-99d3-817d940bac81",
   "metadata": {},
   "outputs": [],
   "source": [
    "SERVER = 'AKCOMPUTER\\MSSQLSERVER2022'\n",
    "DATABASE = 'Cardiac_Outcomes'\n",
    "USERNAME = 'sa'\n",
    "PASSWORD = 'sql123$'\n",
    "connectionString = f'DRIVER={{ODBC Driver 17 for SQL Server}};SERVER={SERVER};DATABASE={DATABASE};Trusted_Connection=yes; UID={USERNAME};PWD={PASSWORD}'\n",
    "conn = odbc.connect(connectionString)\n",
    "#Querying data temp data \n",
    "SQL_QUERY = \"\"\"select * from [dbo].[Demography] where gender ='male'\"\"\"\n",
    "cursor = conn.cursor()\t\n",
    "cursor.execute(SQL_QUERY) \n",
    "row = cursor.fetchone() \n",
    "while row:\n",
    "    print (row) \n",
    "    row = cursor.fetchone()\n",
    "cursor"
   ]
  },
  {
   "cell_type": "markdown",
   "id": "ba9cba64-798c-4939-a7a5-7f2857d5dba5",
   "metadata": {},
   "source": [
    "#### Screenshot of Q49"
   ]
  },
  {
   "attachments": {
    "77c99ae9-f322-4320-a8e1-fabab4020228.png": {
     "image/png": "[encoded data removed]"
    }
   },
   "cell_type": "markdown",
   "id": "ce92c32b-0b50-46ae-bed0-7a0cd1467818",
   "metadata": {},
   "source": [
    "![screenshot.png](attachment:77c99ae9-f322-4320-a8e1-fabab4020228.png)"
   ]
  },
  {
   "cell_type": "markdown",
   "id": "c7460421-f0a6-4ec3-b568-863f6602fdf2",
   "metadata": {},
   "source": [
    "### Q50. Display the lab details of the patient with maximum pulse using the .loc"
   ]
  },
  {
   "cell_type": "code",
   "execution_count": null,
   "id": "21e89c0f-2311-41d6-8130-6e922666f5a7",
   "metadata": {},
   "outputs": [],
   "source": [
    "max_pulse_lab_values= df_Labs.loc[df_Labs['pulse'].idxmax()]\n",
    "max_pulse_lab_values"
   ]
  },
  {
   "cell_type": "markdown",
   "id": "75f4a607-53ab-4c41-a659-c670761917a7",
   "metadata": {},
   "source": [
    "### Q51. Display a violin chart to show distribution of Pulse Rate against age."
   ]
  },
  {
   "cell_type": "code",
   "execution_count": null,
   "id": "3d9dc464-b1ad-4713-90bb-30943b7da302",
   "metadata": {},
   "outputs": [],
   "source": [
    "# Method 1:\n",
    "#Violin chart with Age category Column\n",
    "merge_table = pd.merge(df_Labs[[\"inpatient_number\",\"pulse\"]], df_Demography[[\"inpatient_number\",\"ageCat\"]], on=\"inpatient_number\")\n",
    "plt.figure(figsize=(20, 10))\n",
    "mpl_style(dark=False)\n",
    "sns.violinplot(data=merge_table, x=\"pulse\", y=\"ageCat\")"
   ]
  },
  {
   "cell_type": "code",
   "execution_count": null,
   "id": "b31abee0",
   "metadata": {},
   "outputs": [],
   "source": [
    "# Method 2:\n",
    "#Violin chart with Age Column\n",
    "merge_table = pd.merge(df_Labs[[\"inpatient_number\",\"pulse\"]], df_Demography[[\"inpatient_number\",\"Age\"]], on=\"inpatient_number\")\n",
    "plt.figure(figsize=(30, 10))\n",
    "mpl_style(dark=False)\n",
    "sns.violinplot(data=merge_table, x=\"pulse\", y=\"Age\",palette=\"Set2\")\n",
    "plt.show()"
   ]
  },
  {
   "cell_type": "markdown",
   "id": "18c707ec-d778-4678-bd5e-dbb1ffca3aff",
   "metadata": {},
   "source": [
    "### Q52. Create a Point Plot on Age against time to readmission."
   ]
  },
  {
   "cell_type": "code",
   "execution_count": null,
   "id": "e691a660-f157-4d13-8988-122f7b23f9cb",
   "metadata": {},
   "outputs": [],
   "source": [
    "# Age Column agaist readmission\n",
    "df_merged = pd.merge(df_Hospitalization_Discharge[[\"inpatient_number\",\"readmission_time_days_from_admission\"]], df_Demography[[\"inpatient_number\",\"Age\"]], on=\"inpatient_number\")\n",
    "plt.figure(figsize=(20, 10))\n",
    "sns.pointplot(data=df_merged, x=\"Age\", y=\"readmission_time_days_from_admission\")"
   ]
  },
  {
   "cell_type": "code",
   "execution_count": null,
   "id": "cadfe103",
   "metadata": {},
   "outputs": [],
   "source": [
    "# AgeCateogory Column agaist readmission\n",
    "df_merged = pd.merge(df_Hospitalization_Discharge[[\"inpatient_number\",\"readmission_time_days_from_admission\"]], df_Demography[[\"inpatient_number\",\"ageCat\"]], on=\"inpatient_number\")\n",
    "plt.figure(figsize=(20, 10))\n",
    "sns.pointplot(data=df_merged, x=\"ageCat\", y=\"readmission_time_days_from_admission\")"
   ]
  },
  {
   "cell_type": "markdown",
   "id": "c8000327-d13b-4f11-999d-96cb655eb7bf",
   "metadata": {},
   "source": [
    "### Q53. What is the correlation between CCI score and outcome?"
   ]
  },
  {
   "cell_type": "code",
   "execution_count": null,
   "id": "1482bf12-f92d-4621-bb1b-38d92679aa5c",
   "metadata": {},
   "outputs": [],
   "source": [
    "merge_table = pd.merge(df_PatientHistory[[\"inpatient_number\",\"CCI_score\"]], df_Hospitalization_Discharge[[\"inpatient_number\",\"outcome_during_hospitalization\"]], on=\"inpatient_number\")\n",
    "pivot_outcome = pd.get_dummies(merge_table)\n",
    "sns.heatmap(pivot_outcome[['CCI_score','outcome_during_hospitalization_Alive','outcome_during_hospitalization_Dead','outcome_during_hospitalization_DischargeAgainstOrder']].corr());\n",
    "pivot_outcome[['CCI_score','outcome_during_hospitalization_Alive','outcome_during_hospitalization_Dead','outcome_during_hospitalization_DischargeAgainstOrder']].corr()"
   ]
  },
  {
   "cell_type": "markdown",
   "id": "3367e4b6-1fa2-4898-b9ec-3ab1b32911a0",
   "metadata": {},
   "source": [
    "### Q54. For all non-negative integers that are also even numbers in the array [0,1,2,6,8] print i*i"
   ]
  },
  {
   "cell_type": "code",
   "execution_count": null,
   "id": "db4453f3-3f74-420d-83cf-f8cdaff14074",
   "metadata": {},
   "outputs": [],
   "source": [
    "array = [0,1,2,6,8,9]\n",
    "even_squares = []\n",
    "for i in array:\n",
    "    if ((i>=0) & (i % 2) == 0):\n",
    "        even_squares.append(i)\n",
    "        print(i*i)"
   ]
  },
  {
   "cell_type": "markdown",
   "id": "b512590a",
   "metadata": {},
   "source": [
    "### Q55.Create a jointplot on diastolic_blood_pressure & length of stay"
   ]
  },
  {
   "cell_type": "code",
   "execution_count": null,
   "id": "535fba67",
   "metadata": {},
   "outputs": [],
   "source": [
    "merge_table = pd.merge(df_Hospitalization_Discharge[[\"inpatient_number\",\"dischargeDay\"]], df_Labs[[\"inpatient_number\",\"diastolic_blood_pressure\"]], on=\"inpatient_number\",how='inner')\n",
    "sns.jointplot(data=merge_table, x=\"diastolic_blood_pressure\", y=\"dischargeDay\")\n",
    "plt.show()"
   ]
  },
  {
   "cell_type": "markdown",
   "id": "a75b3b58-ec4b-477e-964a-b937a241ceba",
   "metadata": {},
   "source": [
    "### Q56. Using loc, retrieve the agegroup and weight between indices 101 and 201."
   ]
  },
  {
   "cell_type": "code",
   "execution_count": null,
   "id": "606a6a09-62b9-4618-93f6-94234314f475",
   "metadata": {},
   "outputs": [],
   "source": [
    "df_Demography.loc[101:201,['ageCat','weight']]"
   ]
  },
  {
   "cell_type": "markdown",
   "id": "c2d5ece1-67c0-4d84-bb9c-349b93ac1a91",
   "metadata": {},
   "source": [
    "### Q57. Create a pivot table show shows outcome type as rows, the admission_ward as columns and counts of patients in each category as values"
   ]
  },
  {
   "cell_type": "code",
   "execution_count": null,
   "id": "15ecf70a-fe7a-43a5-aa12-9c2a68f3d03c",
   "metadata": {},
   "outputs": [],
   "source": [
    "pivot_table_admission = pd.pivot_table(\n",
    "    df_Hospitalization_Discharge,\n",
    "    values='inpatient_number',  \n",
    "    index='outcome_during_hospitalization',  \n",
    "    columns='admission_ward',  \n",
    "    aggfunc='count'  \n",
    ")\n",
    "pivot_table_admission"
   ]
  },
  {
   "cell_type": "markdown",
   "id": "002a17ec-c4e8-4635-b8b2-d403ece3a0e6",
   "metadata": {},
   "source": [
    "### Q58. Use Hexagonal binning to show the density of patients who were readmitted when compared to Discharge Days"
   ]
  },
  {
   "cell_type": "code",
   "execution_count": null,
   "id": "0662e120-c870-43de-b85b-57e24bc02c88",
   "metadata": {},
   "outputs": [],
   "source": [
    "plt.hexbin(df_Hospitalization_Discharge[\"dischargeDay\"], df_Hospitalization_Discharge[\"readmission_time_days_from_admission\"], gridsize = 5, cmap ='Greens')  \n",
    "plt.title('Hexagonal binning to show the density of patients')  \n",
    "plt.show()"
   ]
  },
  {
   "cell_type": "markdown",
   "id": "6c4f9681-f6ad-4661-a47a-815d78485c07",
   "metadata": {},
   "source": [
    "### Q59. Using Sunburst chart display patients Age group, occupation and BMI Group"
   ]
  },
  {
   "cell_type": "code",
   "execution_count": null,
   "id": "3a82de6c-226c-4ff5-aace-4e31ce83b19a",
   "metadata": {},
   "outputs": [],
   "source": [
    "pip install plotly"
   ]
  },
  {
   "cell_type": "code",
   "execution_count": null,
   "id": "1e41026a-0dee-444d-a317-9eeb899acb44",
   "metadata": {},
   "outputs": [],
   "source": [
    "import plotly.express as px \n",
    "df_Demography[\"occupation\"].fillna(\"NA\", inplace=True)  \n",
    "fig=px.sunburst(data_frame=df_Demography,path=[\"ageCat\",\"occupation\",\"BMI\"] ,width=500,height=500)\n",
    "fig.show()"
   ]
  },
  {
   "cell_type": "markdown",
   "id": "c8806a48-7238-4aa6-8595-1d056509bda3",
   "metadata": {},
   "source": [
    "### Q60. Plot the Density Chart for visit times"
   ]
  },
  {
   "cell_type": "code",
   "execution_count": null,
   "id": "a6bc078d-9b07-417b-9db4-9885b5731bd6",
   "metadata": {},
   "outputs": [],
   "source": [
    "df_Hospitalization_Discharge.visit_times.plot.density(color='green') \n",
    "plt.title('Density plot for visit times') \n",
    "plt.show()"
   ]
  },
  {
   "cell_type": "markdown",
   "id": "bbe2a872-e7ca-43c9-b29f-f7505f5692da",
   "metadata": {},
   "source": [
    "### Q61. np.arange(1,31).reshape(6,5) Find the array slicing to get the elements with values 11,12,16,17."
   ]
  },
  {
   "cell_type": "code",
   "execution_count": null,
   "id": "5c65e9b1-26b6-47d7-a560-55af6621d7be",
   "metadata": {},
   "outputs": [],
   "source": [
    "array_elements= np.arange(1, 31).reshape(6, 5)\n",
    "\n",
    "desired_elements = array_elements[2:4, 0:2]\n",
    "print(desired_elements)"
   ]
  },
  {
   "cell_type": "markdown",
   "id": "4daaeb17-9ff7-4e24-8194-30a4c364385f",
   "metadata": {},
   "source": [
    "### Q62. What % of all patients with an outcome of \"Alive\" died within 28 days. What was the mean platelet volume among this group?"
   ]
  },
  {
   "cell_type": "code",
   "execution_count": null,
   "id": "d381a248-57e9-4796-8ba4-786509fea1c6",
   "metadata": {},
   "outputs": [],
   "source": [
    "df_alive=df_Hospitalization_Discharge.query('outcome_during_hospitalization==\"Alive\"')\n",
    "df_died_within_28days=df_alive.query('death_within_28_days==1')\n",
    "perc_within_28_days=(len(df_died_within_28days)/len(df_alive))*100\n",
    "print(\"Percentage of all patients with an outcome of Alive died within 28 days: \",round(perc_within_28_days,2),\"\\n\")\n",
    "merge_table=pd.merge(df_died_within_28days[[\"inpatient_number\"]],df_Labs[[\"inpatient_number\",\"mean_platelet_volume\"]],on=\"inpatient_number\")\n",
    "print(\"Mean platelet volume among this group\",round(merge_table['mean_platelet_volume'].mean(),2))\n",
    "merge_table"
   ]
  },
  {
   "cell_type": "markdown",
   "id": "01b26daf-6618-4a95-ac95-00745c55d4a2",
   "metadata": {},
   "source": [
    "### Q63. find the patients who have 'h' in their DestinationDischarge and print them"
   ]
  },
  {
   "cell_type": "code",
   "execution_count": null,
   "id": "1ad477e5-9408-4a23-8972-7b45431f3a9f",
   "metadata": {},
   "outputs": [],
   "source": [
    "df_Hospitalization_Discharge[(df_Hospitalization_Discharge['DestinationDischarge'].str.contains('h'))][['inpatient_number','DestinationDischarge']]"
   ]
  },
  {
   "cell_type": "markdown",
   "id": "81bdc6ce-3f81-44e9-8a69-bf85a76664de",
   "metadata": {},
   "source": [
    "### Q64. Create a grouped bar chart that shows number of patients by gender and ageCat"
   ]
  },
  {
   "cell_type": "code",
   "execution_count": null,
   "id": "b2413383-5a90-40a3-9387-c510c1ed4c62",
   "metadata": {},
   "outputs": [],
   "source": [
    "df_age_gender_patients =  df_Demography.groupby([\"ageCat\",\"gender\"])['inpatient_number'].count().reset_index()\n",
    "df_male = df_age_gender_patients.query('gender == \"Male\"')\n",
    "df_female = df_age_gender_patients.query('gender == \"Female\"')\n",
    "male = df_male[\"inpatient_number\"].tolist()\n",
    "female = df_female[\"inpatient_number\"].tolist()\n",
    "age_category = df_age_gender_patients[\"ageCat\"].unique().tolist()\n",
    "x = np.arange(len(age_category))\n",
    "width = 0.35\n",
    "fig, ax = plt.subplots()\n",
    "bar1 = ax.bar(x - width/2, male, width, label='Male')\n",
    "bar2 = ax.bar(x + width/2, female, width, label='Female')\n",
    "# adding labels\n",
    "ax.set_ylabel('Number of Patients')\n",
    "ax.set_title('Number of Patients')\n",
    "ax.set_xticks(x)\n",
    "ax.set_xticklabels(age_category)\n",
    "ax.legend()\n",
    "def autolabel(rects):\n",
    "    \"\"\"Attaching a text label above each bar in bar1,bar2, displaying its value.\"\"\"\n",
    "    for rect in rects:\n",
    "        height = rect.get_height()\n",
    "        ax.annotate('{}'.format(height),\n",
    "                    xy=(rect.get_x() + rect.get_width() / 2, height),\n",
    "                    xytext=(0, 3),  # 3 points vertical offset\n",
    "                    textcoords=\"offset points\",\n",
    "                    ha='center', va='bottom')\n",
    "autolabel(bar1)\n",
    "autolabel(bar2)\n",
    "fig.tight_layout()\n",
    "plt.show()"
   ]
  },
  {
   "cell_type": "markdown",
   "id": "973a4547-ab2c-4445-9682-4d228c6f1a56",
   "metadata": {},
   "source": [
    "### Q65. Which Admission Ward has maximum number of visits scheduled"
   ]
  },
  {
   "cell_type": "code",
   "execution_count": null,
   "id": "332f487e-9f22-4e50-915d-188539d43daf",
   "metadata": {},
   "outputs": [],
   "source": [
    "#Method1\n",
    "Count_of_visit_Schedule=df_Hospitalization_Discharge.groupby(['admission_ward'])['visit_times'].sum()\n",
    "Count_of_visit_Schedule.sort_values(axis=0,ascending=False).head(1)"
   ]
  },
  {
   "cell_type": "code",
   "execution_count": null,
   "id": "b8d00fd3-b43d-48cf-9f79-f1d983ccb6a8",
   "metadata": {},
   "outputs": [],
   "source": [
    "#Method2\n",
    "df_maxVisits = df_Hospitalization_Discharge.groupby(\"admission_ward\")[\"visit_times\"].sum().reset_index()\n",
    "print(df_maxVisits.loc[df_maxVisits['visit_times'].idxmax()])"
   ]
  },
  {
   "cell_type": "markdown",
   "id": "0977a99e-9daf-4bda-bc9b-e0351988f140",
   "metadata": {},
   "source": [
    "### Q66. Display total count of patients in each discharge_department based on gender"
   ]
  },
  {
   "cell_type": "code",
   "execution_count": null,
   "id": "ccd2c208-a4b4-4d88-894b-a92f23cec352",
   "metadata": {},
   "outputs": [],
   "source": [
    "merged_df = pd.merge(df_Hospitalization_Discharge, df_Demography, on='inpatient_number')\n",
    "Total_departments_discharge_gender = merged_df.groupby(['discharge_department', 'gender']).size().reset_index(name='total_count')\n",
    "print(Total_departments_discharge_gender)"
   ]
  },
  {
   "cell_type": "code",
   "execution_count": null,
   "id": "668fa3ba-b3b2-4f9f-902c-9619f184151c",
   "metadata": {},
   "outputs": [],
   "source": [
    "df1 = pd.merge(df_Hospitalization_Discharge[[\"inpatient_number\",\"discharge_department\"]], df_Demography[[\"inpatient_number\",\"gender\"]], on=\"inpatient_number\")\n",
    "df1.groupby([\"discharge_department\",\"gender\"])[\"inpatient_number\"].count()"
   ]
  },
  {
   "cell_type": "markdown",
   "id": "db2ddeab-a820-44ac-a6d2-7a31eadbe62f",
   "metadata": {},
   "source": [
    "### Q67. How many Unique patients were precribed each type of medication?"
   ]
  },
  {
   "cell_type": "code",
   "execution_count": null,
   "id": "d8c9271d-a2b4-4611-a93f-0e955abc00f2",
   "metadata": {},
   "outputs": [],
   "source": [
    "Unique_patients_same_medication = df_Patient_Precriptions.groupby('Drug_name')['inpatient_number'].nunique().reset_index()\n",
    "Unique_patients_same_medication = Unique_patients_same_medication.rename(columns={'inpatient_number': 'unique_patients'})\n",
    "print(Unique_patients_same_medication)"
   ]
  },
  {
   "cell_type": "markdown",
   "id": "71819835-4f79-4a42-878d-d67f7725b90d",
   "metadata": {},
   "source": [
    "### Q68. Find 5 patients with the highest Discharge days greater than 20. List their most common outcome"
   ]
  },
  {
   "cell_type": "code",
   "execution_count": null,
   "id": "aa5f4667-671f-4554-9571-c7244365f09b",
   "metadata": {},
   "outputs": [],
   "source": [
    "high_discharge_days = df_Hospitalization_Discharge[df_Hospitalization_Discharge['dischargeDay'] > 20]\n",
    "Top5_patients=high_discharge_days.sort_values(by=\"dischargeDay\",ascending=False).head(5)\n",
    "print(Top5_patients.loc[:,[\"inpatient_number\", \"dischargeDay\",\"outcome_during_hospitalization\"]])"
   ]
  },
  {
   "cell_type": "markdown",
   "id": "b6c7e03d-cc44-4a3d-aa24-91d65d4d276b",
   "metadata": {},
   "source": [
    "### Q69. Get the list of patient ID's which are not there in prescriptions but in demographics"
   ]
  },
  {
   "cell_type": "code",
   "execution_count": null,
   "id": "68041ba3-5911-48da-885a-797a49012e61",
   "metadata": {},
   "outputs": [],
   "source": [
    "#Method1\n",
    "df_allpatients = df_Demography.merge(df_Patient_Precriptions, on='inpatient_number',\n",
    "                   how='left', indicator=True)\n",
    "df1_notinPrecriptions = df_allpatients[df_allpatients['_merge'] == 'left_only']\n",
    "df1_notinPrecriptions"
   ]
  },
  {
   "cell_type": "code",
   "execution_count": null,
   "id": "f6d61963-088b-4e13-ad68-0a3f52d61b28",
   "metadata": {},
   "outputs": [],
   "source": [
    "#Method2:\n",
    "df_Demo_Patients = df_Demography[\"inpatient_number\"].unique()\n",
    "df_Pres_Patients = df_Patient_Precriptions[\"inpatient_number\"].unique()\n",
    "np.setdiff1d(df_Demo_Patients, df_Pres_Patients)"
   ]
  },
  {
   "cell_type": "markdown",
   "id": "cdf4f888-c93a-4dd6-b270-fafaf535c5e6",
   "metadata": {},
   "source": [
    "### Q70. On average, what is the most frequent weekday of admission?"
   ]
  },
  {
   "cell_type": "code",
   "execution_count": null,
   "id": "77f6f216-df7c-4c25-bdbf-9ed5d9d907e7",
   "metadata": {},
   "outputs": [],
   "source": [
    "df_mostadm_day = df_Hospitalization_Discharge[[\"inpatient_number\",\"Admission_date\"]]\n",
    "df_mostadm_day[\"Adm_Day\"] = pd.to_datetime(df_Hospitalization_Discharge['Admission_date']).dt.day_name()\n",
    "df_mostadm_day = df_mostadm_day.groupby(\"Adm_Day\")[\"inpatient_number\"].count().reset_index()\n",
    "df_mostadm_day.rename({'inpatient_number': 'AdmCount'}, axis=1, inplace=True)\n",
    "df_mostadm_day = df_mostadm_day.query(\"Adm_Day != 'Saturday' & Adm_Day != 'Sunday'\").sort_values(by=\"AdmCount\", ascending=False)\n",
    "df_mostadm_day.head(1)"
   ]
  },
  {
   "cell_type": "markdown",
   "id": "2ff015e5-8465-49f4-83d6-13190e3847b3",
   "metadata": {},
   "source": [
    "### Q71. Which year had the maximum admissions"
   ]
  },
  {
   "cell_type": "code",
   "execution_count": null,
   "id": "8b800c2a-5571-453e-85ed-b3d9dc05a466",
   "metadata": {},
   "outputs": [],
   "source": [
    "df_admissionYear = pd.to_datetime(df_Hospitalization_Discharge['Admission_date']).dt.year\n",
    "ad = df_admissionYear.value_counts().idxmax()\n",
    "print(\"year of max admissions:\",ad)"
   ]
  },
  {
   "cell_type": "code",
   "execution_count": null,
   "id": "b9e40ee4-7fae-409a-afbc-59ea4d61a5be",
   "metadata": {},
   "outputs": [],
   "source": [
    "df_Hospitalization_Discharge['Year'] = df_Hospitalization_Discharge['Admission_date'].dt.strftime('%Y')\n",
    "groupby_year =  df_Hospitalization_Discharge.groupby(['Year'])[\"inpatient_number\"].count().reset_index()\n",
    "#print(groupby_year)\n",
    "print(groupby_year.loc[groupby_year['inpatient_number'].idxmax()])"
   ]
  },
  {
   "cell_type": "markdown",
   "id": "40cce310-1175-476f-b400-77f964855864",
   "metadata": {},
   "source": [
    "### Q72. What % of the dataset is male vs female?"
   ]
  },
  {
   "cell_type": "code",
   "execution_count": null,
   "id": "1dd36c8e-5f9d-43a8-842a-1c460f3dde37",
   "metadata": {},
   "outputs": [],
   "source": [
    "gender_counts = df_Demography['gender'].value_counts()\n",
    "total_count = len(df_Demography)\n",
    "male_percentage = (gender_counts.get('Male', 0) / total_count) * 100\n",
    "female_percentage = (gender_counts.get('Female',0) / total_count) * 100\n",
    "print(\"Male percentage:\", male_percentage)\n",
    "print(\"Female percentage:\", female_percentage)"
   ]
  },
  {
   "cell_type": "markdown",
   "id": "aa61d9e8-9f67-4dbc-a108-14710894db84",
   "metadata": {},
   "source": [
    "### Q73. Which patient in the youngest age category weighs the most?"
   ]
  },
  {
   "cell_type": "code",
   "execution_count": null,
   "id": "9b17f9b3-7cce-4d31-b36e-11061ba26a3a",
   "metadata": {},
   "outputs": [],
   "source": [
    "age_category= df_Demography['ageCat'].min()\n",
    "print(\"youngest age category\",age_category)\n",
    "patients_age = df_Demography[df_Demography['ageCat'] == age_category]\n",
    "#print(\"df\",patients_age)\n",
    "max_weight = patients_age['weight'].max()\n",
    "print(\"max weight of youngest age:\",max_weight)\n",
    "inpatient_for_max_weight = patients_age.loc[patients_age['weight'] == max_weight, 'inpatient_number'].iloc[0]\n",
    "print(\"patient in the youngest age category weighs the most:\",inpatient_for_max_weight)"
   ]
  },
  {
   "cell_type": "markdown",
   "id": "719190a8-e775-4170-a6d6-cc5b1ee3b2e7",
   "metadata": {},
   "source": [
    "### Q74. Which adm ward had the lowest rate of Outcome Death?"
   ]
  },
  {
   "cell_type": "code",
   "execution_count": null,
   "id": "3f652e43-477d-4d36-90ad-54a2210a6acd",
   "metadata": {},
   "outputs": [],
   "source": [
    "df_admward_outcome = df_Hospitalization_Discharge[[\"inpatient_number\",\"admission_ward\",\"outcome_during_hospitalization\"]].query(\"outcome_during_hospitalization == 'Dead'\")\n",
    "df_admward_outcome = df_admward_outcome.groupby(\"admission_ward\")[\"inpatient_number\"].count().reset_index()\n",
    "df_admward_outcome.rename({'inpatient_number': 'Count'}, axis=1, inplace=True)\n",
    "min_count = df_admward_outcome[\"Count\"].min()\n",
    "print(df_admward_outcome[df_admward_outcome['Count'] == min_count])"
   ]
  },
  {
   "cell_type": "markdown",
   "id": "fdcbd6cf-31d4-4e7d-b861-c8695c8e9139",
   "metadata": {},
   "source": [
    "### Q75. What % of those with an outcome of death, had myocardial infarction?"
   ]
  },
  {
   "cell_type": "code",
   "execution_count": null,
   "id": "d03c915d-aa04-4649-a8bb-b4de1e400ec2",
   "metadata": {},
   "outputs": [],
   "source": [
    "filter_dead_outcome=df_Hospitalization_Discharge.query(\"outcome_during_hospitalization == 'Dead'\")\n",
    "merge_table = pd.merge(filter_dead_outcome[[\"inpatient_number\",\"outcome_during_hospitalization\"]], df_CardiacComplications[[\"inpatient_number\",\"myocardial_infarction\"]], on=\"inpatient_number\")\n",
    "myocardial_infarction_dead_count=merge_table.query(\"myocardial_infarction == 1\")\n",
    "perc_myocardial_infarction = (len(myocardial_infarction_dead_count)/len(filter_dead_outcome))*100\n",
    "print(\"Percentage of those with an outcome of death, had myocardial infarction:\",round(perc_myocardial_infarction,2))"
   ]
  },
  {
   "cell_type": "markdown",
   "id": "c8aab56b-4866-4044-ba60-a1360516049b",
   "metadata": {},
   "source": [
    "### Q76. What is the ratio of those with congestive heart failure to those who had type of heart failure Both?"
   ]
  },
  {
   "cell_type": "code",
   "execution_count": null,
   "id": "2f9a3db9-2ac7-4583-a221-74314a111108",
   "metadata": {},
   "outputs": [],
   "source": [
    "congestive_heart_failure=df_CardiacComplications[df_CardiacComplications['congestive_heart_failure']==1].count()\n",
    "congestive1=congestive_heart_failure['congestive_heart_failure']\n",
    "type_of_heart_failure=df_CardiacComplications[df_CardiacComplications['type_of_heart_failure']=='Both'].count()\n",
    "both1=type_of_heart_failure['type_of_heart_failure']\n",
    "ratio = congestive1/both1\n",
    "print(\"Ratio of those with congestive heart failure to those who had type of heart failure Both = \",round(ratio,2))"
   ]
  },
  {
   "cell_type": "markdown",
   "id": "356b1809-323f-4a19-8c34-d70e905b60c0",
   "metadata": {},
   "source": [
    "### Q77. LIst the number of cardiogenic shock patients based on hospitalization outcome, having a severe GCS score(higher risk of death) \n"
   ]
  },
  {
   "cell_type": "code",
   "execution_count": null,
   "id": "67e38857-4f83-41db-b752-20a2c191e096",
   "metadata": {},
   "outputs": [],
   "source": [
    "df_severeGCS = df_Responsiveness.query(\"GCS <= 8\")\n",
    "df_outcome = pd.merge(df_severeGCS[[\"inpatient_number\",\"GCS\"]], df_Hospitalization_Discharge[[\"inpatient_number\",\"outcome_during_hospitalization\"]], on=\"inpatient_number\")\n",
    "df_outcome"
   ]
  },
  {
   "cell_type": "markdown",
   "id": "ac7f3fbc-d4c9-4001-b0a0-cd325af96215",
   "metadata": {},
   "source": [
    "### Q78. Give the count of patients who have experinced tachicardia or bradycardia."
   ]
  },
  {
   "cell_type": "code",
   "execution_count": null,
   "id": "7b249ebd-dcf1-4783-85d6-f37c3a2edf7b",
   "metadata": {},
   "outputs": [],
   "source": [
    "##Tachycardia: Resting heart rate above 100 beats per minute (bpm).\n",
    "##Bradycardia: Resting heart rate below 60 beats per minute (bpm).\n",
    "\n",
    "tachicardia=df_Labs[df_Labs['pulse']>100].count()\n",
    "print(\"tachicardia:\",tachicardia['pulse'])\n",
    "bradycardia=df_Labs[df_Labs['pulse']<60].count()\n",
    "print(\"bradycardia:\",bradycardia['pulse'])\n",
    "df_tachicardia_bradycardia=df_Labs.query('pulse>100 | pulse<60' )\n",
    "df_tachicardia_bradycardia[['inpatient_number','pulse']]"
   ]
  },
  {
   "cell_type": "markdown",
   "id": "6ea3cb4f-b9b6-4cb8-9c6c-394df37bb5d3",
   "metadata": {},
   "source": [
    "### Q79. Create a Funnel chart of BMI Category(Normal Weight, Underweight and Obese)"
   ]
  },
  {
   "cell_type": "code",
   "execution_count": null,
   "id": "e37c63ed-51df-4b61-94b2-804c66016510",
   "metadata": {},
   "outputs": [],
   "source": [
    "BMI_Category=df_Demography[['inpatient_number','BMI']]\n",
    "li_BMI=[]\n",
    "for index,row in BMI_Category.iterrows():\n",
    "    if row['BMI'] < 18.5:\n",
    "          li_BMI.append(\"Underweight\")\n",
    "    elif row['BMI'] >= 18.5 and row['BMI'] < 25:\n",
    "        li_BMI.append(\"NormalWeight\")\n",
    "    else:\n",
    "        li_BMI.append(\"obese\")\n",
    "BMI_Category.insert(2, \"BMI_Category\", li_BMI, True)\n",
    "df_bmigroup = BMI_Category.groupby(['BMI_Category'])['inpatient_number'].count()\n",
    "df_bmigroup = df_bmigroup.reset_index()\n",
    "df_bmigroup.rename({'inpatient_number': 'PatientsCount'}, axis=1, inplace=True)\n",
    "fig = px.funnel(df_bmigroup, x = df_bmigroup['PatientsCount'].tolist(), y = df_bmigroup['BMI_Category'].tolist(),title = \"BMI Category(Normal Weight, Underweight and Obese)\")\n",
    "fig.show()"
   ]
  },
  {
   "cell_type": "markdown",
   "id": "dca25be0-a8cd-480b-a008-b25e9b985241",
   "metadata": {},
   "source": [
    "### Q80. Delete the column age from Q26 iteratively."
   ]
  },
  {
   "cell_type": "code",
   "execution_count": null,
   "id": "576d4511-a2e6-4a8e-b366-36d80f423e58",
   "metadata": {},
   "outputs": [],
   "source": [
    "print(\"DataFrame before deletion:\")\n",
    "print(df_Demography)\n",
    "\n",
    "# Column to be deleted\n",
    "column_to_delete = 'Age'\n",
    "\n",
    "for age_column in df_Demography.columns:\n",
    "    if age_column == column_to_delete:\n",
    "        df_Demography = df_Demography.drop(age_column,axis=1 )\n",
    "\n",
    "# Display the DataFrame after deletion\n",
    "print(\"\\nDataFrame after deletion:\")\n",
    "print(df_Demography)"
   ]
  },
  {
   "cell_type": "code",
   "execution_count": null,
   "id": "06e3c764-32ff-45a6-bef2-01b219297e3b",
   "metadata": {},
   "outputs": [],
   "source": []
  }
 ],
 "metadata": {
  "kernelspec": {
   "display_name": "Python 3 (ipykernel)",
   "language": "python",
   "name": "python3"
  },
  "language_info": {
   "codemirror_mode": {
    "name": "ipython",
    "version": 3
   },
   "file_extension": ".py",
   "mimetype": "text/x-python",
   "name": "python",
   "nbconvert_exporter": "python",
   "pygments_lexer": "ipython3",
   "version": "3.11.7"
  }
 },
 "nbformat": 4,
 "nbformat_minor": 5
}
